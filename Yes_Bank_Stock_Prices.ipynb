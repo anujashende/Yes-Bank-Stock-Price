{
  "nbformat": 4,
  "nbformat_minor": 0,
  "metadata": {
    "colab": {
      "private_outputs": true,
      "provenance": [],
      "collapsed_sections": [
        "iky9q4vBYrdO",
        "F6T5p64dYrdO",
        "y-Ehk30pYrdP",
        "GwzvFGzlYuh3",
        "r2jJGEOYphqO",
        "b0JNsNcRphqO",
        "rFu4xreNphqO",
        "-oLEiFgy-5Pf"
      ],
      "include_colab_link": true
    },
    "kernelspec": {
      "name": "python3",
      "display_name": "Python 3"
    },
    "language_info": {
      "name": "python"
    }
  },
  "cells": [
    {
      "cell_type": "markdown",
      "metadata": {
        "id": "view-in-github",
        "colab_type": "text"
      },
      "source": [
        "<a href=\"https://colab.research.google.com/github/anujashende/Yes-Bank-Stock-Price/blob/main/Yes_Bank_Stock_Prices.ipynb\" target=\"_parent\"><img src=\"https://colab.research.google.com/assets/colab-badge.svg\" alt=\"Open In Colab\"/></a>"
      ]
    },
    {
      "cell_type": "markdown",
      "source": [
        "# **Yes Bank Stock Prices**    - \n",
        "\n"
      ],
      "metadata": {
        "id": "vncDsAP0Gaoa"
      }
    },
    {
      "cell_type": "markdown",
      "source": [
        "####   **Project Name** -  **Yes Bank Stock Prices**\n",
        "#####  **Project Type**    - **Regression**\n",
        "##### **Contribution**    - **Team**\n",
        "##### **AMISHA KAPSE**\n",
        "##### **ANUJA SHENDE**\n",
        "##### **RENUKA JADHAV**\n",
        "##### **SHUBHAM PAPADKAR**"
      ],
      "metadata": {
        "id": "beRrZCGUAJYm"
      }
    },
    {
      "cell_type": "markdown",
      "source": [
        "# **Project Summary -**"
      ],
      "metadata": {
        "id": "FJNUwmbgGyua"
      }
    },
    {
      "cell_type": "markdown",
      "source": [
        "A time series model is a statistical method that utilizes past data points to forecast future values, it can be applied to predict the closing price of a stock for the month. This technique can be used to examine the stock's behavior and make a knowledgeable decision regarding its future. By utilizing this model, it is possible to identify trends in the stock's historical prices and predict future prices. Additionally, indicators such as moving averages, Bollinger Bands, and MACD can be employed to enhance predictions, and external factors such as news, economic data, and other relevant information can be incorporated to achieve more accurate predictions."
      ],
      "metadata": {
        "id": "F6v_1wHtG2nS"
      }
    },
    {
      "cell_type": "markdown",
      "source": [
        "# **GitHub Link -** https://github.com/anujashende"
      ],
      "metadata": {
        "id": "w6K7xa23Elo4"
      }
    },
    {
      "cell_type": "markdown",
      "source": [
        "# **Problem Statement**\n"
      ],
      "metadata": {
        "id": "yQaldy8SH6Dl"
      }
    },
    {
      "cell_type": "markdown",
      "source": [
        "Yes Bank is a well-known bank in the Indian financial domain. Since 2018, it has been in the news because of the fraud case involving Rana Kapoor. Owing to this fact, it was interesting to see how that impacted the stock prices of the company and whether Time series models or any other predictive models can do justice to such situations. This dataset has monthly stock prices of the bank since its inception and includes closing, starting, highest, and lowest stock prices of every month. The main objective is to predict the stock’s closing price of the month  by creating a machine learning regression model with best accuracy score. "
      ],
      "metadata": {
        "id": "DpeJGUA3kjGy"
      }
    },
    {
      "cell_type": "markdown",
      "source": [
        "# ***Let's Begin !***"
      ],
      "metadata": {
        "id": "O_i_v8NEhb9l"
      }
    },
    {
      "cell_type": "markdown",
      "source": [
        "## ***1. Know Your Data***"
      ],
      "metadata": {
        "id": "HhfV-JJviCcP"
      }
    },
    {
      "cell_type": "markdown",
      "source": [
        "### Import Libraries"
      ],
      "metadata": {
        "id": "Y3lxredqlCYt"
      }
    },
    {
      "cell_type": "code",
      "source": [
        "#Importing libraries for data handelling\n",
        "import pandas as pd\n",
        "import numpy as np\n",
        "from numpy import math\n",
        "from xgboost import XGBRegressor\n",
        "\n",
        "#Importing libraries for Data Visulization\n",
        "import matplotlib.pyplot as plt\n",
        "%matplotlib inline\n",
        "import seaborn as sns\n",
        "\n",
        "# Machine Learning Libraries\n",
        "from sklearn.preprocessing import MinMaxScaler, StandardScaler\n",
        "from sklearn.model_selection import train_test_split, GridSearchCV\n",
        "from sklearn.linear_model import LinearRegression, Ridge, Lasso,LogisticRegression\n",
        "from sklearn.linear_model import ElasticNet\n",
        "from sklearn.tree import DecisionTreeRegressor\n",
        "from sklearn.ensemble import RandomForestRegressor\n",
        "from sklearn.metrics import mean_squared_error, r2_score,mean_absolute_error,mean_absolute_percentage_error\n",
        "from sklearn.metrics import *\n",
        "# Remove Warnings.\n",
        "import warnings\n",
        "warnings.filterwarnings('ignore')\n"
      ],
      "metadata": {
        "id": "M8Vqi-pPk-HR"
      },
      "execution_count": null,
      "outputs": []
    },
    {
      "cell_type": "markdown",
      "source": [
        "### **Dataset Loading**"
      ],
      "metadata": {
        "id": "3RnN4peoiCZX"
      }
    },
    {
      "cell_type": "code",
      "source": [
        "# Load Dataset\n",
        "from google.colab import drive\n",
        "drive.mount('/content/drive')"
      ],
      "metadata": {
        "id": "KeQf4gYaMnUd"
      },
      "execution_count": null,
      "outputs": []
    },
    {
      "cell_type": "code",
      "source": [
        "df = pd.read_csv('/content/drive/MyDrive/ capstone project 2 Yes bank stock prices/data_YesBank_StockPrices.csv')"
      ],
      "metadata": {
        "id": "FKIsX_ibNTn3"
      },
      "execution_count": null,
      "outputs": []
    },
    {
      "cell_type": "markdown",
      "source": [
        "### **Dataset First View**"
      ],
      "metadata": {
        "id": "x71ZqKXriCWQ"
      }
    },
    {
      "cell_type": "code",
      "source": [
        "# Dataset First Look\n",
        "df.head()"
      ],
      "metadata": {
        "id": "LWNFOSvLl09H"
      },
      "execution_count": null,
      "outputs": []
    },
    {
      "cell_type": "markdown",
      "source": [
        "# **Dataset Last Look**"
      ],
      "metadata": {
        "id": "GhrOEUyU80Fx"
      }
    },
    {
      "cell_type": "code",
      "source": [
        "df.tail()"
      ],
      "metadata": {
        "id": "parYCd4iOgsc"
      },
      "execution_count": null,
      "outputs": []
    },
    {
      "cell_type": "markdown",
      "source": [
        "### **Dataset Rows & Columns count**"
      ],
      "metadata": {
        "id": "7hBIi_osiCS2"
      }
    },
    {
      "cell_type": "code",
      "source": [
        "# Dataset Rows & Columns count\n",
        "len(df.columns)\n",
        "\n"
      ],
      "metadata": {
        "id": "Kllu7SJgmLij"
      },
      "execution_count": null,
      "outputs": []
    },
    {
      "cell_type": "code",
      "source": [
        "len(df.values)\n"
      ],
      "metadata": {
        "id": "YxQsEEHF7R5c"
      },
      "execution_count": null,
      "outputs": []
    },
    {
      "cell_type": "markdown",
      "source": [
        "### Dataset Information"
      ],
      "metadata": {
        "id": "JlHwYmJAmNHm"
      }
    },
    {
      "cell_type": "code",
      "source": [
        "# Dataset Info\n",
        "df.info()"
      ],
      "metadata": {
        "id": "e9hRXRi6meOf"
      },
      "execution_count": null,
      "outputs": []
    },
    {
      "cell_type": "markdown",
      "source": [
        "From above we can conclude that:\n",
        "\n",
        "1. The shape of our dataset is 185 rows and 5 columns\n",
        "\n",
        "2. Datatype of Date is given as object which we need to change that to DateTime\n",
        "\n",
        "3. Yes bank stock listed on month of july 2005.We have data available from july 2005 to november 2020"
      ],
      "metadata": {
        "id": "0PKBJ0ra7wTL"
      }
    },
    {
      "cell_type": "markdown",
      "source": [
        "#### Duplicate Values"
      ],
      "metadata": {
        "id": "35m5QtbWiB9F"
      }
    },
    {
      "cell_type": "code",
      "source": [
        "# Dataset Duplicate Value Count\n",
        "df.duplicated().sum()"
      ],
      "metadata": {
        "id": "1sLdpKYkmox0"
      },
      "execution_count": null,
      "outputs": []
    },
    {
      "cell_type": "markdown",
      "source": [
        "#### Missing Values/Null Values"
      ],
      "metadata": {
        "id": "PoPl-ycgm1ru"
      }
    },
    {
      "cell_type": "code",
      "source": [
        "# Missing Values/Null Values Count\n",
        "df.isnull().sum()"
      ],
      "metadata": {
        "id": "GgHWkxvamxVg"
      },
      "execution_count": null,
      "outputs": []
    },
    {
      "cell_type": "code",
      "source": [
        "# In our Dataset their is no missing values."
      ],
      "metadata": {
        "id": "3q5wnI3om9sJ"
      },
      "execution_count": null,
      "outputs": []
    },
    {
      "cell_type": "code",
      "source": [
        "# Visualizing the missing values\n",
        "plt.figure(figsize=(14, 5))\n",
        "sns.heatmap(df.isnull(), cbar=True, yticklabels=False)\n",
        "plt.xlabel(\"column_name\", size=14, weight=\"bold\")\n",
        "plt.title(\"missing values in column\",fontweight=\"bold\",size=18)\n",
        "plt.show()"
      ],
      "metadata": {
        "id": "Jw3SGBZP9NUO"
      },
      "execution_count": null,
      "outputs": []
    },
    {
      "cell_type": "markdown",
      "source": [
        "### What did you know about your dataset?"
      ],
      "metadata": {
        "id": "H0kj-8xxnORC"
      }
    },
    {
      "cell_type": "markdown",
      "source": [
        "\n",
        "\n",
        "*   The time period of Dataset in Between July 2005 to Nov 2020.\n",
        "\n",
        "*   We have total 185 Rows and 5 Columns.\n",
        "\n",
        "*   In our Dataset no duplicate and missing values.\n",
        "\n"
      ],
      "metadata": {
        "id": "gfoNAAC-nUe_"
      }
    },
    {
      "cell_type": "markdown",
      "source": [
        "## ***2. Understanding Your Variables***"
      ],
      "metadata": {
        "id": "nA9Y7ga8ng1Z"
      }
    },
    {
      "cell_type": "code",
      "source": [
        "# Dataset Columns\n",
        "df.columns"
      ],
      "metadata": {
        "id": "j7xfkqrt5Ag5"
      },
      "execution_count": null,
      "outputs": []
    },
    {
      "cell_type": "code",
      "source": [
        "# Dataset Describe\n",
        "df.describe()"
      ],
      "metadata": {
        "id": "DnOaZdaE5Q5t"
      },
      "execution_count": null,
      "outputs": []
    },
    {
      "cell_type": "code",
      "source": [
        "# Summary of the Categorical features\n",
        "df.describe(include='object')"
      ],
      "metadata": {
        "id": "BBUzkPojmyD0"
      },
      "execution_count": null,
      "outputs": []
    },
    {
      "cell_type": "markdown",
      "source": [
        "### Variables Description "
      ],
      "metadata": {
        "id": "PBTbrJXOngz2"
      }
    },
    {
      "cell_type": "markdown",
      "source": [
        "\n",
        "**Date:** It denotes the month & year with respect to the price of the stock.\n",
        "\n",
        "**Open:** The price at which a stock started trading that month.\n",
        "\n",
        "**High:** Refers to the maximum price of the stock.\n",
        "\n",
        "**Low:** Refers to the minimum price of the stock.\n",
        "\n",
        "**Close:** Refers to the final trading price for that month.\n",
        "\n",
        "**'Close' is the dependent variable in this case as we are going to predict the closing price of the stock**\n",
        "\n",
        "\n"
      ],
      "metadata": {
        "id": "aJV4KIxSnxay"
      }
    },
    {
      "cell_type": "markdown",
      "source": [
        "### Check Unique Values for each variable."
      ],
      "metadata": {
        "id": "u3PMJOP6ngxN"
      }
    },
    {
      "cell_type": "code",
      "source": [
        "# Check Unique Values for each variable.\n",
        "df['Date'].nunique()"
      ],
      "metadata": {
        "id": "zms12Yq5n-jE"
      },
      "execution_count": null,
      "outputs": []
    },
    {
      "cell_type": "code",
      "source": [
        "df['Open'].nunique()"
      ],
      "metadata": {
        "id": "EgGfwWUZa1Th"
      },
      "execution_count": null,
      "outputs": []
    },
    {
      "cell_type": "code",
      "source": [
        "df['High'].nunique()"
      ],
      "metadata": {
        "id": "1L4raxlPbLhh"
      },
      "execution_count": null,
      "outputs": []
    },
    {
      "cell_type": "code",
      "source": [
        "df['Low'].nunique()"
      ],
      "metadata": {
        "id": "U_surV5ebLVG"
      },
      "execution_count": null,
      "outputs": []
    },
    {
      "cell_type": "code",
      "source": [
        "df['Close'].nunique()"
      ],
      "metadata": {
        "id": "pr5dmuj_bLF7"
      },
      "execution_count": null,
      "outputs": []
    },
    {
      "cell_type": "markdown",
      "source": [
        "## 3. ***Data Wrangling***"
      ],
      "metadata": {
        "id": "dauF4eBmngu3"
      }
    },
    {
      "cell_type": "markdown",
      "source": [
        "### Data Wrangling Code"
      ],
      "metadata": {
        "id": "bKJF3rekwFvQ"
      }
    },
    {
      "cell_type": "code",
      "source": [
        "Features = df[[\"Open\",'High','Low']]\n",
        "Target = df['Close']"
      ],
      "metadata": {
        "id": "t2-pwt1b_OX_"
      },
      "execution_count": null,
      "outputs": []
    },
    {
      "cell_type": "code",
      "source": [
        "# Write your code to make your dataset analysis ready.\n",
        "df=df.copy()\n",
        "# Checking Shape of True Value\n",
        "print(\"stock closing price  : -\",len(df[df['Close']==True]))\n",
        "# Assigning churn customers data to variable df_churn\n",
        "df_churn=df[(df['Close']==True)]"
      ],
      "metadata": {
        "id": "wk-9a2fpoLcV"
      },
      "execution_count": null,
      "outputs": []
    },
    {
      "cell_type": "markdown",
      "source": [
        "# **convert string object to datetime object**"
      ],
      "metadata": {
        "id": "U_3ItqCrA8W_"
      }
    },
    {
      "cell_type": "code",
      "source": [
        "# convert string object to datetime object\n",
        "from datetime import datetime\n",
        "# For analysis we want date in 'DD-MM-YYYY' formate\n",
        "df['Date'] = pd.to_datetime(df['Date'].apply(lambda x : datetime.strptime(x,'%b-%y')))"
      ],
      "metadata": {
        "id": "cpEziGe9IRkn"
      },
      "execution_count": null,
      "outputs": []
    },
    {
      "cell_type": "code",
      "source": [
        "df['Date']"
      ],
      "metadata": {
        "id": "m3NAorHDLvvN"
      },
      "execution_count": null,
      "outputs": []
    },
    {
      "cell_type": "code",
      "source": [
        "#setting Date column as index\n",
        "df.set_index('Date',inplace=True)"
      ],
      "metadata": {
        "id": "s6E5neQSM1FH"
      },
      "execution_count": null,
      "outputs": []
    },
    {
      "cell_type": "code",
      "source": [
        "df.head()"
      ],
      "metadata": {
        "id": "AEVNF3jgNE0z"
      },
      "execution_count": null,
      "outputs": []
    },
    {
      "cell_type": "code",
      "source": [
        "df.info()"
      ],
      "metadata": {
        "id": "vDUKo074nlbW"
      },
      "execution_count": null,
      "outputs": []
    },
    {
      "cell_type": "markdown",
      "source": [
        "### What all manipulations have you done and insights you found?"
      ],
      "metadata": {
        "id": "MSa1f5Uengrz"
      }
    },
    {
      "cell_type": "markdown",
      "source": [
        "Changing date of column datatype to datetime format."
      ],
      "metadata": {
        "id": "LbyXE7I1olp8"
      }
    },
    {
      "cell_type": "markdown",
      "source": [
        "## ***4. Data Vizualization, Storytelling & Experimenting with charts : Understand the relationships between variables***"
      ],
      "metadata": {
        "id": "GF8Ens_Soomf"
      }
    },
    {
      "cell_type": "markdown",
      "source": [
        "#### Chart - 1"
      ],
      "metadata": {
        "id": "0wOQAZs5pc--"
      }
    },
    {
      "cell_type": "code",
      "source": [
        "# Visualize closing orice is changing with respect to year\n",
        "plt.figure(figsize=(15,7))\n",
        "plt.plot(df['Close'])\n",
        "plt.legend(['Closing-Price'])\n",
        "plt.xlabel('Year')\n",
        "plt.ylabel('Price')\n",
        "plt.title('Plotting bar graph of Closing Price wrt Year')\n",
        "plt.grid()\n",
        "plt.show()\n"
      ],
      "metadata": {
        "id": "zqXiIHLp0yvF"
      },
      "execution_count": null,
      "outputs": []
    },
    {
      "cell_type": "markdown",
      "source": [
        "##### 1. Why did you pick the specific chart?"
      ],
      "metadata": {
        "id": "K5QZ13OEpz2H"
      }
    },
    {
      "cell_type": "markdown",
      "source": [
        "Here we cans see that the stocks were high from 2017 to 2018 but it dropped after 2018 because of fraud case regarding to Rana kapoor.\n",
        "\n",
        "We can see in 2017 to 2019 there can be high action seen because of difference in high and low lines.\n",
        "\n",
        "We can take closing price of the stock as the dependent variable as it is the final price of that day"
      ],
      "metadata": {
        "id": "C_j1G7yiqdRP"
      }
    },
    {
      "cell_type": "markdown",
      "source": [
        "##### 2. What is/are the insight(s) found from the chart?"
      ],
      "metadata": {
        "id": "lQ7QKXXCp7Bj"
      }
    },
    {
      "cell_type": "markdown",
      "source": [
        "The graph shows the highest price of YES BANK stocks in the year 2018. \n",
        "After the year 2018. \n",
        "\n",
        "After the year 2018,we see a gradual fall in a stocks price. \n",
        "\n",
        "After the year 2016, we see a rapid increase in a stocks price."
      ],
      "metadata": {
        "id": "XESiWehPqBRc"
      }
    },
    {
      "cell_type": "markdown",
      "source": [
        "##### 3. Will the gained insights help creating a positive business impact? \n",
        "Are there any insights that lead to negative growth? Justify with specific reason."
      ],
      "metadata": {
        "id": "448CDAPjqfQr"
      }
    },
    {
      "cell_type": "markdown",
      "source": [
        "Yes ,the insights can help in creating a positive impact , as we can see the stock price from 2005 to 2018 which was a beneficial time for investor after ther was down in the stock price."
      ],
      "metadata": {
        "id": "3cspy4FjqxJW"
      }
    },
    {
      "cell_type": "markdown",
      "source": [
        "#### Chart - 2"
      ],
      "metadata": {
        "id": "KSlN3yHqYklG"
      }
    },
    {
      "cell_type": "code",
      "source": [
        "# Lets visualize close, open, low and high in combined line plot.\n",
        "plt.figure(figsize=(15,7))\n",
        "plt.plot(df['Open'])\n",
        "plt.plot(df['Close'])\n",
        "plt.plot(df['High'])\n",
        "plt.plot(df['Low'])\n",
        "plt.legend(['Open', 'Close',\"High\",'Low'])\n",
        "plt.xlabel('Year')\n",
        "plt.ylabel('Price')\n",
        "plt.title('Combined Plot: Open,Close, High & Low, fontsize=16')\n",
        "plt.show()"
      ],
      "metadata": {
        "id": "gt1CgzcuAQ32"
      },
      "execution_count": null,
      "outputs": []
    },
    {
      "cell_type": "markdown",
      "source": [
        "##### 1. Why did you pick the specific chart?"
      ],
      "metadata": {
        "id": "t6dVpIINYklI"
      }
    },
    {
      "cell_type": "markdown",
      "source": [
        "--All the prices shows almost similar trends with each other.\n",
        "\n",
        "-- Which means that this features may be strongly correlated with each other."
      ],
      "metadata": {
        "id": "5aaW0BYyYklI"
      }
    },
    {
      "cell_type": "markdown",
      "source": [
        "##### 2. What is/are the insight(s) found from the chart?"
      ],
      "metadata": {
        "id": "ijmpgYnKYklI"
      }
    },
    {
      "cell_type": "markdown",
      "source": [
        "From the above chart, we can see that there was a good price rise from July 2005 till 2018 and it was a good time to invest as there was an up trend. The price was between 5 Rs - 10 Rs in around July 2005 and reached a peak price of above 350 Rs in the year 2018. "
      ],
      "metadata": {
        "id": "PSx9atu2YklI"
      }
    },
    {
      "cell_type": "markdown",
      "source": [
        "##### 3. Will the gained insights help creating a positive business impact? \n",
        "Are there any insights that lead to negative growth? Justify with specific reason."
      ],
      "metadata": {
        "id": "-JiQyfWJYklI"
      }
    },
    {
      "cell_type": "markdown",
      "source": [
        "Yes, the insights can help in creating a positive business impact, as we can see the up trend in the stock price from July 2005 to 2018 which was a beneficial time for the investor and after Rana Kapoor fraud there was downtrend in the stock price."
      ],
      "metadata": {
        "id": "BcBbebzrYklV"
      }
    },
    {
      "cell_type": "markdown",
      "source": [
        "**Distribution of dependant variable i.e Close Price of stock.**"
      ],
      "metadata": {
        "id": "EM7whBJCYoAo"
      }
    },
    {
      "cell_type": "code",
      "source": [
        "# Lets see the open price  Data Distribution\n",
        "plt.figure(figsize=(18,6))\n",
        "plt.subplot(1, 2, 1)\n",
        "fig = sns.distplot(df['Open'], color='blue')\n",
        "plt.title(\"open price  Data Distribution\", fontsize=16)\n",
        "fig.set_ylabel('Density ')\n",
        "fig.set_xlabel('Open Price')\n",
        "\n",
        "plt.subplot(1, 2, 2)\n",
        "fig = sns.boxplot(df['Open'],color='orange')\n",
        "fig.set_title('')\n",
        "     "
      ],
      "metadata": {
        "id": "kzgfFiUUCqIF"
      },
      "execution_count": null,
      "outputs": []
    },
    {
      "cell_type": "markdown",
      "source": [
        "##### 1. Why did you pick the specific chart?"
      ],
      "metadata": {
        "id": "fge-S5ZAYoAp"
      }
    },
    {
      "cell_type": "markdown",
      "source": [
        "Density plots are used to display the probability density function of a continuous random variable and provide insights into the underlying distribution of a dataset. They can be useful for identifying patterns and trends in the data, comparing different groups and visualizing non-normal distributions."
      ],
      "metadata": {
        "id": "5dBItgRVYoAp"
      }
    },
    {
      "cell_type": "markdown",
      "source": [
        "##### 2. What is/are the insight(s) found from the chart?\n",
        "\n"
      ],
      "metadata": {
        "id": "85gYPyotYoAp"
      }
    },
    {
      "cell_type": "markdown",
      "source": [
        "From above density chart its conclude that the opening price was in the range of 40Rs to 150Rs with the highest point that up to 60Rs and The outliers price range differing up to the 350Rs."
      ],
      "metadata": {
        "id": "4jstXR6OYoAp"
      }
    },
    {
      "cell_type": "markdown",
      "source": [
        "##### 3. Will the gained insights help creating a positive business impact? \n",
        "Are there any insights that lead to negative growth? Justify with specific reason."
      ],
      "metadata": {
        "id": "RoGjAbkUYoAp"
      }
    },
    {
      "cell_type": "markdown",
      "source": [
        "yes, from above density chart we conclude that, its beneficial for creating a positive business impact.\n",
        "\n",
        "\n",
        "```\n"
      ],
      "metadata": {
        "id": "zfJ8IqMcYoAp"
      }
    },
    {
      "cell_type": "markdown",
      "source": [
        "#### Chart - 4"
      ],
      "metadata": {
        "id": "4Of9eVA-YrdM"
      }
    },
    {
      "cell_type": "code",
      "source": [
        " # Lets see the High price  Data Distribution\n",
        "\n",
        "plt.figure(figsize=(18,6))\n",
        "plt.subplot(1, 2, 1)\n",
        "fig = sns.distplot(df['High'], color='blue')\n",
        "plt.title('High price  Data Distribution', fontsize=16)\n",
        "fig.set_ylabel('Density ')\n",
        "fig.set_xlabel('High Price')\n",
        "\n",
        "plt.subplot(1, 2, 2)\n",
        "fig = sns.boxplot(df['High'], color='orange')\n",
        "fig.set_title('')"
      ],
      "metadata": {
        "id": "irlUoxc8YrdO"
      },
      "execution_count": null,
      "outputs": []
    },
    {
      "cell_type": "markdown",
      "source": [
        "##### 1. Why did you pick the specific chart?"
      ],
      "metadata": {
        "id": "iky9q4vBYrdO"
      }
    },
    {
      "cell_type": "markdown",
      "source": [
        "Above chart was picked for better understanding of the density distribution visualisation of the highest price of the month and Visulazing outliers."
      ],
      "metadata": {
        "id": "aJRCwT6DYrdO"
      }
    },
    {
      "cell_type": "markdown",
      "source": [
        "##### 2. What is/are the insight(s) found from the chart?"
      ],
      "metadata": {
        "id": "F6T5p64dYrdO"
      }
    },
    {
      "cell_type": "markdown",
      "source": [
        "By understanding the above chart we can say that density of YES BANK stock high price is at highest between 5Rs to 60Rs price range and the density keeps reducing after 80Rs."
      ],
      "metadata": {
        "id": "Xx8WAJvtYrdO"
      }
    },
    {
      "cell_type": "markdown",
      "source": [
        "##### 3. Will the gained insights help creating a positive business impact? \n",
        "Are there any insights that lead to negative growth? Justify with specific reason."
      ],
      "metadata": {
        "id": "y-Ehk30pYrdP"
      }
    },
    {
      "cell_type": "markdown",
      "source": [
        "Density of high price in the YES BANK stocks price suggest that there is high likelihood that it will rich a high between 5Rs and 60Rs and that it will be unlikely to rich a high over 100Rs. "
      ],
      "metadata": {
        "id": "jLNxxz7MYrdP"
      }
    },
    {
      "cell_type": "markdown",
      "source": [
        "#### Chart - 5"
      ],
      "metadata": {
        "id": "bamQiAODYuh1"
      }
    },
    {
      "cell_type": "code",
      "source": [
        "# Lets see the low price  Data Distribution\n",
        "\n",
        "plt.figure(figsize=(18,6))\n",
        "plt.subplot(1, 2, 1)\n",
        "fig = sns.distplot(df['Low'], color='blue')\n",
        "plt.title(\"low price  Data Distribution\", fontsize=16)\n",
        "fig.set_ylabel('Density ')\n",
        "fig.set_xlabel('Low price')\n",
        "\n",
        "plt.subplot(1, 2, 2)\n",
        "fig = sns.boxplot(df['Low'],color='orange')\n",
        "fig.set_title('')"
      ],
      "metadata": {
        "id": "TIJwrbroYuh3"
      },
      "execution_count": null,
      "outputs": []
    },
    {
      "cell_type": "markdown",
      "source": [
        "##### 1. Why did you pick the specific chart?"
      ],
      "metadata": {
        "id": "QHF8YVU7Yuh3"
      }
    },
    {
      "cell_type": "markdown",
      "source": [
        "Above chart was picked for better understanding of the density distribution visualisation of the lowest price of the month and Visulazing outliers.\n",
        "\n"
      ],
      "metadata": {
        "id": "dcxuIMRPYuh3"
      }
    },
    {
      "cell_type": "markdown",
      "source": [
        "##### 2. What is/are the insight(s) found from the chart?"
      ],
      "metadata": {
        "id": "GwzvFGzlYuh3"
      }
    },
    {
      "cell_type": "markdown",
      "source": [
        "By understanding the above chart we can say that the frequency of YES BANK stock at low prices is most concentrated in the range of 5Rs to 60Rs, with a decrease in frequency as the price exceeds 100Rs."
      ],
      "metadata": {
        "id": "uyqkiB8YYuh3"
      }
    },
    {
      "cell_type": "markdown",
      "source": [
        "##### 3. Will the gained insights help creating a positive business impact? \n",
        "Are there any insights that lead to negative growth? Justify with specific reason."
      ],
      "metadata": {
        "id": "qYpmQ266Yuh3"
      }
    },
    {
      "cell_type": "markdown",
      "source": [
        "  By understanding the above chart we can say thatsThe density of low prices for YES BANK stock indicates a higher probability of the stock closing in the range of 5Rs to 60Rs and a lower probability of it closing at a price higher than 100Rs."
      ],
      "metadata": {
        "id": "_WtzZ_hCYuh4"
      }
    },
    {
      "cell_type": "markdown",
      "source": [],
      "metadata": {
        "id": "kSLewg3kDSsQ"
      }
    },
    {
      "cell_type": "markdown",
      "source": [
        "#### Chart - 6"
      ],
      "metadata": {
        "id": "OH-pJp9IphqM"
      }
    },
    {
      "cell_type": "code",
      "source": [
        "# Lets see the closing price  Data Distribution\n",
        "\n",
        "plt.figure(figsize=(18,6))\n",
        "plt.subplot(1, 2, 1)\n",
        "fig = sns.distplot(df['Close'], color='blue')\n",
        "plt.title('closing price  Data Distribution', fontsize=16)\n",
        "fig.set_ylabel('Density',fontsize=12)\n",
        "fig.set_xlabel('Close Price',fontsize=12)\n",
        "\n",
        "plt.subplot(1, 2, 2)\n",
        "fig = sns.boxplot(df['Close'],color='orange')\n",
        "fig.set_title('')"
      ],
      "metadata": {
        "id": "kuRf4wtuphqN"
      },
      "execution_count": null,
      "outputs": []
    },
    {
      "cell_type": "markdown",
      "source": [
        "It is rightly skewed distribution.\n",
        "\n",
        "need to go with log transformation to make it normal distribution"
      ],
      "metadata": {
        "id": "AgeuIuVj8zI6"
      }
    },
    {
      "cell_type": "markdown",
      "source": [
        "##### 1. Why did you pick the specific chart?"
      ],
      "metadata": {
        "id": "bbFf2-_FphqN"
      }
    },
    {
      "cell_type": "markdown",
      "source": [
        "Density plots are useful for visualizing the distribution of closing prices for a stock. By plotting the density of closing prices over time, patterns and trends in the data can be identified, such as a high frequency of closing prices within a certain range or a shift in the distribution over time. This can provide valuable insights into the performance of the stock and inform decision making related to investing."
      ],
      "metadata": {
        "id": "loh7H2nzphqN"
      }
    },
    {
      "cell_type": "markdown",
      "source": [
        "##### 2. What is/are the insight(s) found from the chart?"
      ],
      "metadata": {
        "id": "_ouA3fa0phqN"
      }
    },
    {
      "cell_type": "markdown",
      "source": [
        "From the density chart of closing prices, it can be inferred that the closing price of YES BANK stock was mostly concentrated in the range of 40Rs to 150Rs, with the highest point at around 60Rs. Additionally, there may be some outliers, or very rare instances, where the closing price was in the range of 350Rs. This information can provide insights into the general performance of the stock and inform decisions related to investing in the stock."
      ],
      "metadata": {
        "id": "VECbqPI7phqN"
      }
    },
    {
      "cell_type": "markdown",
      "source": [
        "#### Chart - 7"
      ],
      "metadata": {
        "id": "PIIx-8_IphqN"
      }
    },
    {
      "cell_type": "code",
      "source": [
        "# Chart - 7 visualization\n",
        "df[['Open','Close']].tail(40).plot(kind='bar',figsize=(22,8))\n",
        "plt.grid(which='major', linestyle='-', linewidth='0.9', color='black')\n",
        "plt.title('Stock price ', fontsize=16)\n",
        "plt.ylabel(\"Stock Price\")\n",
        "plt.xlabel(\"Date\")\n",
        "plt.show()"
      ],
      "metadata": {
        "id": "lqAIGUfyphqO"
      },
      "execution_count": null,
      "outputs": []
    },
    {
      "cell_type": "markdown",
      "source": [
        "##### 1. Why did you pick the specific chart?"
      ],
      "metadata": {
        "id": "t27r6nlMphqO"
      }
    },
    {
      "cell_type": "markdown",
      "source": [
        "the chart appears to show a relationship between the opening price (represented by the blue bar) and the closing price (represented by the orange bar) of a particular asset or security over a specific period of time (likely a month). It's important to note that the relationship shown in the chart may not necessarily be causal, and there could be other factors influencing the opening and closing prices."
      ],
      "metadata": {
        "id": "iv6ro40sphqO"
      }
    },
    {
      "cell_type": "markdown",
      "source": [
        "##### 2. What is/are the insight(s) found from the chart?"
      ],
      "metadata": {
        "id": "r2jJGEOYphqO"
      }
    },
    {
      "cell_type": "markdown",
      "source": [
        "The chart illustrates that the opening price peaked above 350Rs in August 2017, September 2017, October 2017, February 2018, May 2018, and August 2018, while the closing price reached its peak above 350Rs in August 2017, January 2018, April 2018, and July 2018. Additionally, both opening and closing prices were the lowest during August 2020, September 2020, October 2020, and November 2020."
      ],
      "metadata": {
        "id": "Po6ZPi4hphqO"
      }
    },
    {
      "cell_type": "markdown",
      "source": [
        "##### 3. Will the gained insights help creating a positive business impact? \n",
        "Are there any insights that lead to negative growth? Justify with specific reason."
      ],
      "metadata": {
        "id": "b0JNsNcRphqO"
      }
    },
    {
      "cell_type": "markdown",
      "source": [
        "The chart can be used to make informed decisions by identifying patterns, such as a period of low prices from August 2020 to November 2020, which may be avoided for investing. However, it's important to consider other factors and historical performance is not a guarantee of future results."
      ],
      "metadata": {
        "id": "xvSq8iUTphqO"
      }
    },
    {
      "cell_type": "markdown",
      "source": [
        "#### Chart - 8 **Scatter Plot to see the Best Fit line**"
      ],
      "metadata": {
        "id": "BZR9WyysphqO"
      }
    },
    {
      "cell_type": "markdown",
      "source": [
        "**Best Fit Line**:- A line of best fit is a straight line that is the best  approximation of the given set of data. It is used to study the nature of the relation between two variables."
      ],
      "metadata": {
        "id": "FLD6e2DS9oM0"
      }
    },
    {
      "cell_type": "code",
      "source": [
        "# Now lets look for relation independent variables with dependent variable.\n",
        "for col in Features[1:-1]:\n",
        "    fig = plt.figure(figsize=(9, 6))\n",
        "    ax = fig.gca()\n",
        "    feature = df[col]\n",
        "    label = df['Close']\n",
        "    correlation = feature.corr(label)\n",
        "    plt.scatter(x=feature, y=label)\n",
        "    plt.xlabel(col)\n",
        "    plt.ylabel('Close-Price')\n",
        "    ax.set_title('Close vs ' + col + '- correlation: ' + str(correlation))\n",
        "    z = np.polyfit(df[col], df['Close'], 1)\n",
        "    y_hat = np.poly1d(z)(df[col])\n",
        "\n",
        "    plt.plot(df[col], y_hat, \"r--\", lw=1)\n",
        "\n",
        "plt.show()\n"
      ],
      "metadata": {
        "id": "oPtvwL9TIFhu"
      },
      "execution_count": null,
      "outputs": []
    },
    {
      "cell_type": "markdown",
      "source": [
        "##### 1. Why did you pick the specific chart?"
      ],
      "metadata": {
        "id": "jj7wYXLtphqO"
      }
    },
    {
      "cell_type": "markdown",
      "source": [
        " Close-Open\n",
        "Close-High Close- Low Here we selected 3 charts to understand the correlation between Close price and Open price, Close price and High price, Close price and Low price."
      ],
      "metadata": {
        "id": "Ob8u6rCTphqO"
      }
    },
    {
      "cell_type": "markdown",
      "source": [
        "##### 2. What is/are the insight(s) found from the chart?"
      ],
      "metadata": {
        "id": "eZrbJ2SmphqO"
      }
    },
    {
      "cell_type": "markdown",
      "source": [
        "All three charts show a positive correlation. Close-Open chart has a correlation of 0.9779 Close-High chart has a correlation of 0.9850 Close-Low chart has a correlation of 0.9953 The chances of stock price closing at low are higher than compared to opening price.\n",
        "\n",
        "\n",
        "\n",
        "\n"
      ],
      "metadata": {
        "id": "mZtgC_hjphqO"
      }
    },
    {
      "cell_type": "markdown",
      "source": [
        "##### 3. Will the gained insights help creating a positive business impact? \n",
        "Are there any insights that lead to negative growth? Justify with specific reason."
      ],
      "metadata": {
        "id": "rFu4xreNphqO"
      }
    },
    {
      "cell_type": "markdown",
      "source": [
        "The chart illustrates the highs and lows prices over a specific period of time, providing valuable insights into patterns and trends that can be used to make informed decisions, such as avoiding a period of consistently low prices for investing. However, it is important to note that historical performance is not necessarily indicative of future results."
      ],
      "metadata": {
        "id": "ey_0qi68phqO"
      }
    },
    {
      "cell_type": "markdown",
      "source": [
        "#### Chart - 10 - Correlation Heatmap"
      ],
      "metadata": {
        "id": "NC_X3p0fY2L0"
      }
    },
    {
      "cell_type": "code",
      "source": [
        "# Correlation Heatmap visualization code\n",
        "corr=df.corr()\n",
        "plt.figure(figsize=(16,6))\n",
        "heatmap = sns.heatmap(corr, annot = True, cmap='BrBG')\n",
        "heatmap.set_title('Correlation Heatmap', fontdict={'fontsize':18}, pad=12);\n",
        "\n",
        "\n",
        "\n",
        "     "
      ],
      "metadata": {
        "id": "xyC9zolEZNRQ"
      },
      "execution_count": null,
      "outputs": []
    },
    {
      "cell_type": "markdown",
      "source": [
        "##### 1. Why did you pick the specific chart?"
      ],
      "metadata": {
        "id": "UV0SzAkaZNRQ"
      }
    },
    {
      "cell_type": "markdown",
      "source": [
        "There are very high correlation between independent variables which lead us to multicollinearity. High multicollinearity is not good for fitting model and prediction because a slight change in any independent variable will give very unpredictable results.\n",
        "\n",
        "To check multicollinearity and how much it is in our dataset, we have to calculate VIF(Variation Inflation Factor)\n",
        "\n",
        "so, we can decide which varible we should keep in our analysis and predicting model and which should be removed from the datasets."
      ],
      "metadata": {
        "id": "DVPuT8LYZNRQ"
      }
    },
    {
      "cell_type": "markdown",
      "source": [
        "##### 2. What is/are the insight(s) found from the chart?"
      ],
      "metadata": {
        "id": "YPEH6qLeZNRQ"
      }
    },
    {
      "cell_type": "markdown",
      "source": [
        "The chart illustrates that low and close prices have the strongest relationship, followed by high and close, and least strong is between open and close prices."
      ],
      "metadata": {
        "id": "bfSqtnDqZNRR"
      }
    },
    {
      "cell_type": "markdown",
      "source": [
        "#### Chart - 15 - Pair Plot "
      ],
      "metadata": {
        "id": "q29F0dvdveiT"
      }
    },
    {
      "cell_type": "code",
      "source": [
        "# Pair Plot for each categorical feature count\n",
        "sns.pairplot(df, height=2, diag_kws={'color':'black'})\n",
        "         "
      ],
      "metadata": {
        "id": "o58-TEIhveiU"
      },
      "execution_count": null,
      "outputs": []
    },
    {
      "cell_type": "markdown",
      "source": [
        "##### 1. Why did you pick the specific chart?"
      ],
      "metadata": {
        "id": "EXh0U9oCveiU"
      }
    },
    {
      "cell_type": "markdown",
      "source": [
        "Seaborn Pairplot is a visualization tool that plots pairwise relationships between variables in a dataset. It creates a matrix of scatter plots and histograms/KDE plots, helping to identify patterns and relationships in the data."
      ],
      "metadata": {
        "id": "eMmPjTByveiU"
      }
    },
    {
      "cell_type": "markdown",
      "source": [
        "## ***6. Feature Engineering & Data Pre-processing***"
      ],
      "metadata": {
        "id": "yLjJCtPM0KBk"
      }
    },
    {
      "cell_type": "markdown",
      "source": [
        "Outlier Detection "
      ],
      "metadata": {
        "id": "xiyOF9F70UgQ"
      }
    },
    {
      "cell_type": "markdown",
      "source": [
        "### 2. Handling Outliers"
      ],
      "metadata": {
        "id": "id1riN9m0vUs"
      }
    },
    {
      "cell_type": "code",
      "source": [
        "# Handling Outliers & Outlier treatments\n",
        "fig = plt.figure(figsize =(10, 7))\n",
        "boxplot = df.boxplot(column=['Open','High','Low',\"Close\"],grid=False,notch=True)\n",
        "plt.show()\n",
        " \n",
        "\n",
        "\n",
        "     "
      ],
      "metadata": {
        "id": "M6w2CzZf04JK"
      },
      "execution_count": null,
      "outputs": []
    },
    {
      "cell_type": "markdown",
      "source": [
        "##### What all outlier treatment techniques have you used and why did you use those techniques?"
      ],
      "metadata": {
        "id": "578E2V7j08f6"
      }
    },
    {
      "cell_type": "markdown",
      "source": [
        "As above boxplot shows outliers this is because of stock price fall from nearly around 400 to 20.This happen quick within very few months thats why top value of stocks looks like outliers.\n",
        "\n",
        "Conclusion:\n",
        "\n",
        "1. There are no duplicates present\n",
        "2. There are no null values present\n",
        "3. Columns in dataset are Date,Open,High,Low,Close\n",
        "Data Type Correction"
      ],
      "metadata": {
        "id": "uGZz5OrT1HH-"
      }
    },
    {
      "cell_type": "markdown",
      "source": [
        "### 4. Feature Manipulation & Selection"
      ],
      "metadata": {
        "id": "-oLEiFgy-5Pf"
      }
    },
    {
      "cell_type": "markdown",
      "source": [
        "# #### 1. **Feature Selection**"
      ],
      "metadata": {
        "id": "2DejudWSA-a0"
      }
    },
    {
      "cell_type": "markdown",
      "source": [
        "**VIF**:- The Variance Inflation Factor (VIF) measures the severity of multicollinearity in regression analysis. It is a statistical concept that indicates the increase in the variance of a regression coefficient as a result of collinearity."
      ],
      "metadata": {
        "id": "Z5kE4uRIBKN6"
      }
    },
    {
      "cell_type": "code",
      "source": [
        "# Select your features wisely to avoid overfitting\n",
        "\n",
        "from statsmodels.stats.outliers_influence import variance_inflation_factor\n",
        "def calc_vif(X):\n",
        "\n",
        "    # Calculating VIF\n",
        "    vif = pd.DataFrame()\n",
        "    vif[\"variables\"] = X.columns\n",
        "    vif[\"VIF\"] = [variance_inflation_factor(X.values, i) for i in range(X.shape[1])]\n",
        "\n",
        "    return(vif)"
      ],
      "metadata": {
        "id": "4eJrmMsloeRR"
      },
      "execution_count": null,
      "outputs": []
    },
    {
      "cell_type": "code",
      "source": [
        "calc_vif(df[[i for i in df.describe().columns if i not in ['Date','Close']]])"
      ],
      "metadata": {
        "id": "wCqV2i1fB-d4"
      },
      "execution_count": null,
      "outputs": []
    },
    {
      "cell_type": "markdown",
      "source": [
        "##### What all feature selection methods have you used  and why?"
      ],
      "metadata": {
        "id": "pEMng2IbBLp7"
      }
    },
    {
      "cell_type": "markdown",
      "source": [
        "Variance Inflation Factor method"
      ],
      "metadata": {
        "id": "rb2Lh6Z8BgGs"
      }
    },
    {
      "cell_type": "markdown",
      "source": [
        "##### Which all features you found important and why?"
      ],
      "metadata": {
        "id": "rAdphbQ9Bhjc"
      }
    },
    {
      "cell_type": "markdown",
      "source": [
        "Even though we have high VIF scores, we will not perform feature engineering because for this particular case as each feature is important. In the real world, most indicators take into account each of these features to predict future values."
      ],
      "metadata": {
        "id": "fGgaEstsBnaf"
      }
    },
    {
      "cell_type": "markdown",
      "source": [
        "We have very high VIF in our dataset so, we have to drop one them which is least correlated with dependent variable."
      ],
      "metadata": {
        "id": "EuficoC_BVqR"
      }
    },
    {
      "cell_type": "code",
      "source": [
        "#Lets find correlation with heatmap\n",
        "plt.figure(figsize=(8,5))\n",
        "correlation = df[['Low','High','Open','Close']].corr()\n",
        "sns.heatmap(abs(correlation), annot=True, cmap='BuPu')\n",
        "     "
      ],
      "metadata": {
        "id": "HQv9sDMkBczq"
      },
      "execution_count": null,
      "outputs": []
    },
    {
      "cell_type": "markdown",
      "source": [
        "In general case, Any variable having VIF above 5 is considered to be multicollinear.\n",
        "\n",
        "\n",
        "The thumb rule is to drop the highest VIF variable. \n",
        "\n",
        "However, you may choose to select the variable to be dropped based on business logic\n",
        "\n",
        "\n",
        "Here all feature are equally important and we have very limited features."
      ],
      "metadata": {
        "id": "MkfXEnahBq_d"
      }
    },
    {
      "cell_type": "markdown",
      "source": [
        "### 5. **Data Transformation**"
      ],
      "metadata": {
        "id": "TNVZ9zx19K6k"
      }
    },
    {
      "cell_type": "code",
      "source": [
        "# Applying log transformation in order to normalize the features.\n",
        "for var in Features:\n",
        "    plt.figure(figsize=(15,6))\n",
        "    plt.subplot(1, 2, 1)\n",
        "    fig = sns.distplot(np.log10(df[var]))\n",
        "    fig.set_ylabel(' ')\n",
        "    fig.set_xlabel(var)\n",
        "\n",
        "    plt.subplot(1, 2, 2)\n",
        "    fig = sns.boxplot(y=np.log10(df[var]))\n",
        "    fig.set_title('')\n",
        "    fig.set_ylabel(var)\n",
        "\n"
      ],
      "metadata": {
        "id": "Nz-Y6oqGFDW4"
      },
      "execution_count": null,
      "outputs": []
    },
    {
      "cell_type": "markdown",
      "source": [
        "-Now looks like normally distrubuted !!!"
      ],
      "metadata": {
        "id": "nqv2EvH5FSvw"
      }
    },
    {
      "cell_type": "code",
      "source": [
        "# Applying log transformation in order to normalize the features.\n",
        "plt.figure(figsize=(8,7))\n",
        "sns.distplot(np.log10(df['Close']),color='blue')\n",
        "plt.title('Distribution of Close Price', fontsize=16)\n",
        "plt.xlabel('Closing Price', fontsize=12)\n",
        "plt.ylabel('Density', fontsize=12)\n",
        "plt.show()"
      ],
      "metadata": {
        "id": "Zf-Er3dSFbrv"
      },
      "execution_count": null,
      "outputs": []
    },
    {
      "cell_type": "markdown",
      "source": [
        "I have used log10 transformation as it was positively skewed.Now it seems more normal"
      ],
      "metadata": {
        "id": "PB62j9B_FlC2"
      }
    },
    {
      "cell_type": "markdown",
      "source": [
        "#### Do you think that your data needs to be transformed? If yes, which transformation have you used. Explain Why?"
      ],
      "metadata": {
        "id": "nqoHp30x9hH9"
      }
    },
    {
      "cell_type": "markdown",
      "source": [
        "Because of the data being moderately right skewed we will be using log transformation for normal distribution."
      ],
      "metadata": {
        "id": "rWvYAeXfNepj"
      }
    },
    {
      "cell_type": "markdown",
      "source": [
        "X = Independant Variable values\n",
        "\n",
        "y = Dependent Variable values"
      ],
      "metadata": {
        "id": "zeEEQboHk_nt"
      }
    },
    {
      "cell_type": "code",
      "source": [
        "#from scipy.stats import zscore\n",
        "#Using Log transformation\n",
        "independent_var = ['Open','High','Low']\n",
        "x = np.log10(df[independent_var])"
      ],
      "metadata": {
        "id": "hVsXqmFZr5Us"
      },
      "execution_count": null,
      "outputs": []
    },
    {
      "cell_type": "code",
      "source": [
        "y = np.log10(df['Close'])"
      ],
      "metadata": {
        "id": "3X-zthh4r_PJ"
      },
      "execution_count": null,
      "outputs": []
    },
    {
      "cell_type": "markdown",
      "source": [
        "###  **Data Splitting**"
      ],
      "metadata": {
        "id": "BhH2vgX9EjGr"
      }
    },
    {
      "cell_type": "markdown",
      "source": [
        "**Train(80%) & Test(20%) Split**"
      ],
      "metadata": {
        "id": "OzJxGP2gknma"
      }
    },
    {
      "cell_type": "code",
      "source": [
        "# Split your data to train and test. Choose Splitting ratio wisely.\n",
        "X_train, X_test, y_train, y_test = train_test_split( x,y , test_size = 0.2, random_state = 0) \n",
        "print(X_train.shape)\n",
        "print(X_test.shape)"
      ],
      "metadata": {
        "id": "SE97ijACxzuu"
      },
      "execution_count": null,
      "outputs": []
    },
    {
      "cell_type": "markdown",
      "source": [
        "**What data splitting ratio have you used and why?**"
      ],
      "metadata": {
        "id": "odD7VvKQyJfQ"
      }
    },
    {
      "cell_type": "markdown",
      "source": [
        "\n",
        "We used Train test split. A split of 80-20 % is done on Trian and Test respectively, beacuse its considered to be optimum split."
      ],
      "metadata": {
        "id": "lra4qJd5yXZW"
      }
    },
    {
      "cell_type": "markdown",
      "source": [
        "## *** ML Model Implementation***"
      ],
      "metadata": {
        "id": "VfCC591jGiD4"
      }
    },
    {
      "cell_type": "markdown",
      "source": [
        "\n",
        "\n",
        "### **ML Model 1 - Linear Regression**"
      ],
      "metadata": {
        "id": "OB4l2ZhMeS1U"
      }
    },
    {
      "cell_type": "markdown",
      "source": [
        "Linear Regression is a machine learning algorithm based on supervised learning. It performs a regression task. Regression models a target prediction value based on independent variables. It is mostly used for finding out the relationship between variables and forecasting."
      ],
      "metadata": {
        "id": "630nxc5SZrZ4"
      }
    },
    {
      "cell_type": "code",
      "source": [
        "# implementing Linear_regression model\n",
        "# ML Model - 1 Implementation\n",
        "from sklearn.linear_model import LinearRegression\n",
        "# Fit the Algorithm\n",
        "reg = LinearRegression().fit(X_train, y_train)\n",
        "# Predict on the model\n",
        "reg.score(X_train, y_train)"
      ],
      "metadata": {
        "id": "7ebyywQieS1U"
      },
      "execution_count": null,
      "outputs": []
    },
    {
      "cell_type": "code",
      "source": [
        "reg.coef_"
      ],
      "metadata": {
        "id": "PdtxKwBlzBBQ"
      },
      "execution_count": null,
      "outputs": []
    },
    {
      "cell_type": "code",
      "source": [
        "y_pred = reg.predict(X_test)"
      ],
      "metadata": {
        "id": "4tZtVgYKzFuQ"
      },
      "execution_count": null,
      "outputs": []
    },
    {
      "cell_type": "code",
      "source": [
        "# visualizing actual vs predicted\n",
        "plt.figure(figsize=(15,7))\n",
        "plt.plot(y_pred)\n",
        "plt.plot(np.array(y_test))\n",
        "plt.suptitle('Actual Vs. Predicted Close Price: Linear Regression', fontsize=16)\n",
        "plt.legend([\"Predicted\",\"Actual\"])\n",
        "plt.xlabel(' No of Test Data')\n",
        "plt.ylabel('Closing Price', fontsize=12)\n",
        "plt.show()"
      ],
      "metadata": {
        "id": "YLM40Cq7zc3P"
      },
      "execution_count": null,
      "outputs": []
    },
    {
      "cell_type": "markdown",
      "source": [
        "**Evaluation Metrics of Linear Regression**:-"
      ],
      "metadata": {
        "id": "j_AGN9q5lXem"
      }
    },
    {
      "cell_type": "markdown",
      "source": [
        "1. Explain the ML Model used and it's performance using Evaluation metric Score Chart."
      ],
      "metadata": {
        "id": "hqstWijEleD-"
      }
    },
    {
      "cell_type": "code",
      "source": [
        "# Visualizing evaluation Metric Score chart\n",
        "from sklearn.metrics import mean_squared_error\n",
        "\n",
        "MSE  = mean_squared_error(10**(y_test), 10**(y_pred))\n",
        "print(\"MSE :\" , MSE)\n",
        "\n",
        "RMSE = np.sqrt(MSE)\n",
        "print(\"RMSE :\" ,RMSE)\n",
        "\n",
        "r2 = r2_score(10**(y_test), 10**(y_pred))\n",
        "print(\"R2 :\" ,r2)\n",
        "print(\"Adjusted R2 : \",1-(1-r2_score(10**(y_test), 10**(y_pred)))*((X_test.shape[0]-1)/(X_test.shape[0]-X_test.shape[1]-1)))\n"
      ],
      "metadata": {
        "id": "X5-uZPZvn9M4"
      },
      "execution_count": null,
      "outputs": []
    },
    {
      "cell_type": "markdown",
      "source": [
        "Linear regression is giving about 99% correct prediction.\n",
        "\n",
        "It's r2 score is 0.99 which is very good."
      ],
      "metadata": {
        "id": "9lXC8KNnkcXg"
      }
    },
    {
      "cell_type": "markdown",
      "source": [
        "**ML Model - 2 Using LASSO REGRESSION**\n"
      ],
      "metadata": {
        "id": "Q6uNRKOwslXL"
      }
    },
    {
      "cell_type": "code",
      "source": [
        "# implementing lasso_regression model\n",
        "from sklearn.linear_model import Lasso\n",
        "lasso  = Lasso(alpha=0.1 , max_iter= 3000)\n",
        "\n",
        "lasso.fit(X_train, y_train)"
      ],
      "metadata": {
        "id": "_tiagH3uspfC"
      },
      "execution_count": null,
      "outputs": []
    },
    {
      "cell_type": "code",
      "source": [
        "lasso.score(X_train, y_train)"
      ],
      "metadata": {
        "id": "TSFN7qIG0t2-"
      },
      "execution_count": null,
      "outputs": []
    },
    {
      "cell_type": "code",
      "source": [
        "y_pred_l = lasso.predict(X_test)"
      ],
      "metadata": {
        "id": "FjwEeiev0xKX"
      },
      "execution_count": null,
      "outputs": []
    },
    {
      "cell_type": "markdown",
      "source": [
        "1. **Explain the ML Model used and it's performance using Evaluation metric Score Chart.**"
      ],
      "metadata": {
        "id": "p_LMa7bI1GfJ"
      }
    },
    {
      "cell_type": "code",
      "source": [
        "# Visualizing evaluation Metric Score chart\n",
        "MSE  = mean_squared_error(10**(y_test), 10**(y_pred_l))\n",
        "print(\"MSE :\" , MSE)\n",
        "\n",
        "RMSE = np.sqrt(MSE)\n",
        "print(\"RMSE :\" ,RMSE)\n",
        "\n",
        "r2 = r2_score(10**(y_test), 10**(y_pred_l))\n",
        "print(\"R2 :\" ,r2)\n",
        "print(\"Adjusted R2 : \",1-(1-r2_score(10**(y_test), 10**(y_pred_l)))*((X_test.shape[0]-1)/(X_test.shape[0]-X_test.shape[1]-1)))"
      ],
      "metadata": {
        "id": "TX2UOynQ1RH2"
      },
      "execution_count": null,
      "outputs": []
    },
    {
      "cell_type": "markdown",
      "source": [
        "#### 2. **Cross- Validation & Hyperparameter Tuning**"
      ],
      "metadata": {
        "id": "4qY1EAkEfxKe"
      }
    },
    {
      "cell_type": "markdown",
      "source": [
        "Cross-validation is a technique in which we train our model using the subset of the data-set and then evaluate using the complementary subset of the data-set.\n",
        "\n",
        "The three steps involved in cross-validation are as follows :\n",
        "\n",
        "1.Reserve some portion of sample data-set.\n",
        "\n",
        "2.Using the rest data-set train the model.\n",
        "\n",
        "3.Test the model using the reserve portion of the data-set.#"
      ],
      "metadata": {
        "id": "qagAcTIVNkRi"
      }
    },
    {
      "cell_type": "code",
      "source": [
        "# ML Model - 2 Implementation with hyperparameter optimization techniques (i.e., GridSearch CV, RandomSearch CV, Bayesian Optimization etc.)\n",
        "lasso_1 = Lasso()\n",
        "parameters = {'alpha': [1e-15,1e-13,1e-10,1e-8,1e-5,1e-4,1e-3,1e-2,1e-1,1,5,10,20,30,40,45,50,55,60,100]}\n",
        "lasso_regressor = GridSearchCV(lasso, parameters, scoring='neg_mean_squared_error', cv=3)\n",
        "lasso_regressor.fit(X_train, y_train)\n",
        "# Fit the Algorithm\n",
        "\n",
        "# Predict on the model\n",
        "     \n",
        "     "
      ],
      "metadata": {
        "id": "Dy61ujd6fxKe"
      },
      "execution_count": null,
      "outputs": []
    },
    {
      "cell_type": "code",
      "source": [
        "print(\"The best fit alpha value is found out to be :\" ,lasso_regressor.best_params_)\n",
        "print(\"\\nUsing \",lasso_regressor.best_params_, \" the negative mean squared error is: \", lasso_regressor.best_score_)"
      ],
      "metadata": {
        "id": "m3J4o5vj1jWY"
      },
      "execution_count": null,
      "outputs": []
    },
    {
      "cell_type": "code",
      "source": [
        "y_pred_lasso = lasso_regressor.predict(X_test)"
      ],
      "metadata": {
        "id": "U7USdZbH1nvm"
      },
      "execution_count": null,
      "outputs": []
    },
    {
      "cell_type": "markdown",
      "source": [
        "Lasso Regression After Validation: Actual Vs. Predicted"
      ],
      "metadata": {
        "id": "jbFafiAf239r"
      }
    },
    {
      "cell_type": "code",
      "source": [
        "# visualizing actual vs predicted\n",
        "plt.figure(figsize=(15,7))\n",
        "plt.plot(y_pred_lasso)\n",
        "plt.plot(np.array(y_test))\n",
        "plt.suptitle('Actual Vs. Predicted Close Price: Lasso Regression After CV', fontsize=16)\n",
        "plt.legend([\"Predicted\",\"Actual\"])\n",
        "plt.xlabel(' No of Test Data')\n",
        "plt.xlabel('Closing Price ')\n",
        "plt.show()"
      ],
      "metadata": {
        "id": "cjqsSmRbuOaR"
      },
      "execution_count": null,
      "outputs": []
    },
    {
      "cell_type": "markdown",
      "source": [
        "1.Which hyperparameter optimization technique have you used and why?"
      ],
      "metadata": {
        "id": "2OUosDhJrkJ6"
      }
    },
    {
      "cell_type": "markdown",
      "source": [
        "We have used Cross validation and hyper parameter tuning for avoiding overfiting of the model lasso and better accuracy on test data."
      ],
      "metadata": {
        "id": "BpF56MhdrrHf"
      }
    },
    {
      "cell_type": "markdown",
      "source": [
        "2.Have you seen any improvement? Note down the improvement with updates Evaluation metric Score Chart."
      ],
      "metadata": {
        "id": "NA5Lwp0Uryqr"
      }
    },
    {
      "cell_type": "markdown",
      "source": [
        "Not much improvement is seen beacuse of the less accuracy than our first model."
      ],
      "metadata": {
        "id": "flwt7QhEr3y3"
      }
    },
    {
      "cell_type": "markdown",
      "source": [
        "### ML Model - 3 **Ridge regression**"
      ],
      "metadata": {
        "id": "Fze-IPXLpx6K"
      }
    },
    {
      "cell_type": "code",
      "source": [
        "# ML Model - 3 Implementation\n",
        "from sklearn.linear_model import Ridge\n",
        "\n",
        "ridge  = Ridge(alpha=0.1)\n",
        "# Fit the Algorithm\n",
        "ridge.fit(X_train,y_train)\n",
        "print(ridge.score(X_train, y_train))\n",
        "# Predict on the model\n",
        "y_pred_r = ridge.predict(X_test)"
      ],
      "metadata": {
        "id": "QW4cFPEU3HTE"
      },
      "execution_count": null,
      "outputs": []
    },
    {
      "cell_type": "markdown",
      "source": [
        "#### 1. **Explain the ML Model used and it's performance using Evaluation metric Score Chart.**"
      ],
      "metadata": {
        "id": "7AN1z2sKpx6M"
      }
    },
    {
      "cell_type": "code",
      "source": [
        "# Visualizing evaluation Metric Score chart\n",
        "MSE  = mean_squared_error(10**(y_test), 10**(y_pred_r))\n",
        "print(\"MSE :\" , MSE)\n",
        "\n",
        "RMSE = np.sqrt(MSE)\n",
        "print(\"RMSE :\" ,RMSE)\n",
        "\n",
        "r2 = r2_score(10**(y_test), 10**(y_pred_r))\n",
        "print(\"R2 :\" ,r2)\n",
        "print(\"Adjusted R2 : \",1-(1-r2_score(10**(y_test), 10**(y_pred_r)))*((X_test.shape[0]-1)/(X_test.shape[0]-X_test.shape[1]-1)))\n"
      ],
      "metadata": {
        "id": "xIY4lxxGpx6M"
      },
      "execution_count": null,
      "outputs": []
    },
    {
      "cell_type": "code",
      "source": [
        "# ML Model - 3 Implementation with hyperparameter optimization techniques (i.e., GridSearch CV, RandomSearch CV, Bayesian Optimization etc.)\n",
        "\n",
        "\n",
        "# Hyperprarameter tuning\n",
        "ridge = Ridge()\n",
        "parameters = {'alpha': [1e-15,1e-10,1e-8,1e-5,1e-4,1e-3,1e-2,1,5,10,20,30,40,45,50,55,60,100]}\n",
        "ridge_regressor = GridSearchCV(ridge, parameters, scoring='neg_mean_squared_error', cv=3)\n",
        "ridge_regressor.fit(X_train,y_train)"
      ],
      "metadata": {
        "id": "0qSE751T3geN"
      },
      "execution_count": null,
      "outputs": []
    },
    {
      "cell_type": "code",
      "source": [
        "print(\"The best fit alpha value is found out to be :\" ,ridge_regressor.best_params_)\n",
        "print(\"\\nUsing \",ridge_regressor.best_params_, \" the negative mean squared error is: \", ridge_regressor.best_score_)"
      ],
      "metadata": {
        "id": "XZ_QQF8V3jbo"
      },
      "execution_count": null,
      "outputs": []
    },
    {
      "cell_type": "code",
      "source": [
        "y_pred_ridge = ridge_regressor.predict(X_test)"
      ],
      "metadata": {
        "id": "3NRw1ujS3lrd"
      },
      "execution_count": null,
      "outputs": []
    },
    {
      "cell_type": "code",
      "source": [
        "#Visualizing actual values and predicted values\n",
        "plt.figure(figsize=(15,7))\n",
        "plt.plot(y_pred_ridge)\n",
        "plt.plot(np.array(y_test))\n",
        "plt.suptitle('Actual Vs. Predicted Close Price: ridge Regression', fontsize=16)\n",
        "plt.legend([\"Predicted\",\"Actual\"])\n",
        "plt.xlabel('Test Data')\n",
        "plt.show()"
      ],
      "metadata": {
        "id": "1olmsWf2vRPH"
      },
      "execution_count": null,
      "outputs": []
    },
    {
      "cell_type": "code",
      "source": [
        "### Heteroscadacity\n",
        "plt.scatter(10**(y_pred_r),10**(y_test)-10**(y_pred_r))"
      ],
      "metadata": {
        "id": "ZQhqedQm491Z"
      },
      "execution_count": null,
      "outputs": []
    },
    {
      "cell_type": "code",
      "source": [
        "10**(y_pred)"
      ],
      "metadata": {
        "id": "ceDLPmc65BX5"
      },
      "execution_count": null,
      "outputs": []
    },
    {
      "cell_type": "code",
      "source": [
        "10**(y_test)\n"
      ],
      "metadata": {
        "id": "ratp_8Yo5EFH"
      },
      "execution_count": null,
      "outputs": []
    },
    {
      "cell_type": "markdown",
      "source": [
        "2. **Which ML model did you choose from the above created models as your final prediction model and why?**"
      ],
      "metadata": {
        "id": "N__E_sdP5O3g"
      }
    },
    {
      "cell_type": "markdown",
      "source": [
        "We choose our first and third model that is simple linear regression model and ridge regression model for final prediction because of good prediction accuracy than lasso and least mean squared error and good scores of evalution metrics."
      ],
      "metadata": {
        "id": "g1bPeYuK5Rhz"
      }
    },
    {
      "cell_type": "markdown",
      "source": [
        "# **Conclusion**"
      ],
      "metadata": {
        "id": "gCX9965dhzqZ"
      }
    },
    {
      "cell_type": "markdown",
      "source": [
        "At first we do the data wrangling then data cleaning and data transformation after that we do the Modeling part.\n",
        "\n",
        "In EDA part we observed that- \n",
        "\n",
        "There is increase in trend of Yes Bank's stock's Close,Open,High,Low price till 2018 an then sudden decrease\n",
        "\n",
        "We observed that open vs close price graph concluded that after 2018 yes bank's stock hitted drastically.\n",
        "\n",
        "We saw Linear relation between the dependent and independent values.\n",
        "\n",
        "There was alot of multicollinearity present in data.\n",
        "\n",
        "\n",
        "Target variable(dependent variable) strongly dependent on independent variables\n",
        "We get maximum accuracy of 99%\n",
        "\n",
        "Linear regression and Ridge regression get almost same R squared value\n",
        "\n",
        "Where as Lasso model shows lowest R squared value and high MSE,RMSE\n",
        "\n",
        "Ridge regression shrunk the parameters to reduce complexity and multicollinearity but ended up affecting the evaluation metrics.\n",
        "\n",
        "   \n",
        "From scatter plot we can conclude that bivariate analysis shows high correlation of close price with other features. All histogram plot shows that all are right skewed. For data transformation we used Log Transformation because it was moderately right skewed.\n",
        " \n",
        "From heatmap we can conclude that all the features showing high correlation between each other. We implemented linear regression and the accuracy of our linear regression model is 99.78%.\n",
        "\n",
        "After that we visualise the performance of our linear regression model and the graph shows that we achieve the almost best fit model for our dataset."
      ],
      "metadata": {
        "id": "Fjb1IsQkh3yE"
      }
    }
  ]
}